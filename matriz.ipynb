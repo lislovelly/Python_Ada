{
  "nbformat": 4,
  "nbformat_minor": 0,
  "metadata": {
    "colab": {
      "provenance": [],
      "authorship_tag": "ABX9TyN+XEZJuW9JZgOcVfta6ASo",
      "include_colab_link": true
    },
    "kernelspec": {
      "name": "python3",
      "display_name": "Python 3"
    },
    "language_info": {
      "name": "python"
    }
  },
  "cells": [
    {
      "cell_type": "markdown",
      "metadata": {
        "id": "view-in-github",
        "colab_type": "text"
      },
      "source": [
        "<a href=\"https://colab.research.google.com/github/lislovelly/Colab/blob/main/matriz.ipynb\" target=\"_parent\"><img src=\"https://colab.research.google.com/assets/colab-badge.svg\" alt=\"Open In Colab\"/></a>"
      ]
    },
    {
      "cell_type": "code",
      "execution_count": 5,
      "metadata": {
        "colab": {
          "base_uri": "https://localhost:8080/"
        },
        "id": "A8RXZRSTAIKb",
        "outputId": "6346271a-0674-4df8-c9a0-b7f9bafd408f"
      },
      "outputs": [
        {
          "output_type": "stream",
          "name": "stdout",
          "text": [
            "[0, 0, 0, 0, 0, 0, 0, 0]\n"
          ]
        }
      ],
      "source": [
        "a = [ 1,2,3,4,5,6,7,8]\n",
        "b = [ 1,2,3,4,5,6,7,8]\n",
        "c = [a[i] - b[i] for i in range(len(a))]\n",
        "\n",
        "print(c)\n"
      ]
    },
    {
      "cell_type": "code",
      "source": [
        "a = [2,4,6,8,10]\n",
        "b = [i ** 2 for i in a]\n",
        "print(b)"
      ],
      "metadata": {
        "colab": {
          "base_uri": "https://localhost:8080/"
        },
        "id": "48wMVcSuA8ny",
        "outputId": "9b8fb8a5-3261-4b68-acd9-6aa441db5c1a"
      },
      "execution_count": 7,
      "outputs": [
        {
          "output_type": "stream",
          "name": "stdout",
          "text": [
            "[4, 16, 36, 64, 100]\n"
          ]
        }
      ]
    },
    {
      "cell_type": "code",
      "source": [
        "a = [5, 8]\n",
        "b = []\n",
        "for i in a:\n",
        "    fatorial = 1\n",
        "    for i in range(1, i + 1):\n",
        "      fatorial *= i\n",
        "    print(fatorial)"
      ],
      "metadata": {
        "colab": {
          "base_uri": "https://localhost:8080/"
        },
        "id": "eYUUXE3HBXPH",
        "outputId": "77e87ab6-f201-455e-c0a1-ddcf053b6744"
      },
      "execution_count": 15,
      "outputs": [
        {
          "output_type": "stream",
          "name": "stdout",
          "text": [
            "120\n",
            "40320\n"
          ]
        }
      ]
    },
    {
      "cell_type": "code",
      "source": [
        "a = [1,2,3,4,5,6]\n",
        "b = [2,4,6,8,10,12]\n",
        "c = [ a + b]\n",
        "print(c)"
      ],
      "metadata": {
        "colab": {
          "base_uri": "https://localhost:8080/"
        },
        "id": "upc6ZeTPCBAN",
        "outputId": "e91a63ac-71db-4220-a768-de8ff2c40ac7"
      },
      "execution_count": 16,
      "outputs": [
        {
          "output_type": "stream",
          "name": "stdout",
          "text": [
            "[[1, 2, 3, 4, 5, 6, 2, 4, 6, 8, 10, 12]]\n"
          ]
        }
      ]
    },
    {
      "cell_type": "code",
      "source": [
        "a = ['aline', 'joao']\n",
        "b = ['heleno', 'michele', 'leticia']\n",
        "c = [ a + b]\n",
        "print(c)"
      ],
      "metadata": {
        "colab": {
          "base_uri": "https://localhost:8080/"
        },
        "id": "2YXyrPHzCPKW",
        "outputId": "9b5eec76-2976-4eef-faa4-d1ff03f29ada"
      },
      "execution_count": 18,
      "outputs": [
        {
          "output_type": "stream",
          "name": "stdout",
          "text": [
            "[['aline', 'joao', 'heleno', 'michele', 'leticia']]\n"
          ]
        }
      ]
    },
    {
      "cell_type": "code",
      "source": [
        "a = [1,2,3,4,5,6]\n",
        "b = [a[i] for i in range(len(a) - 1, -1, -1)]\n",
        "print(\"Matriz original:\")\n",
        "for linha in a:\n",
        "    print(linha)\n",
        "print(\"\\nMatriz inversa:\")\n",
        "for linha in b:\n",
        "    print(linha)"
      ],
      "metadata": {
        "colab": {
          "base_uri": "https://localhost:8080/"
        },
        "id": "LMG_DYvyCyzX",
        "outputId": "405fd5f2-fe9f-4b46-aa87-97284a964450"
      },
      "execution_count": 40,
      "outputs": [
        {
          "output_type": "stream",
          "name": "stdout",
          "text": [
            "Matriz original:\n",
            "1\n",
            "2\n",
            "3\n",
            "4\n",
            "5\n",
            "6\n",
            "\n",
            "Matriz inversa:\n",
            "6\n",
            "5\n",
            "4\n",
            "3\n",
            "2\n",
            "1\n"
          ]
        }
      ]
    },
    {
      "cell_type": "code",
      "source": [
        "a = [5,8]\n",
        "b = []\n",
        "for i in a:\n",
        "  soma = 0\n",
        "  for i in range(1, i+1):\n",
        "    soma += i\n",
        "    nsoma = soma\n",
        "  print(nsoma)"
      ],
      "metadata": {
        "colab": {
          "base_uri": "https://localhost:8080/"
        },
        "id": "rgrRPRKMIeCU",
        "outputId": "ff0b876c-52fd-4639-abb7-c6057444ba31"
      },
      "execution_count": 63,
      "outputs": [
        {
          "output_type": "stream",
          "name": "stdout",
          "text": [
            "15\n",
            "36\n"
          ]
        }
      ]
    },
    {
      "cell_type": "code",
      "source": [
        "a = [1, 2, 3, 4, 5, 6]\n",
        "soma = 0\n",
        "\n",
        "for i in range(len(a)):\n",
        "    soma += a[i]\n",
        "    nsoma = soma\n",
        "print(nsoma)"
      ],
      "metadata": {
        "colab": {
          "base_uri": "https://localhost:8080/"
        },
        "id": "n7uqtRUnKgQo",
        "outputId": "5b7ffe3c-0066-4373-d13c-21eb86827e5c"
      },
      "execution_count": 57,
      "outputs": [
        {
          "output_type": "stream",
          "name": "stdout",
          "text": [
            "21\n"
          ]
        }
      ]
    },
    {
      "cell_type": "code",
      "source": [
        "a = [5, 8, 10, 15]\n",
        "b = [-a[i] for i in range(len(a))]\n",
        "\n",
        "print(b)\n"
      ],
      "metadata": {
        "colab": {
          "base_uri": "https://localhost:8080/"
        },
        "id": "qxrDA6a-L7Cm",
        "outputId": "461ec222-4e95-4ea3-e649-6beb9423786d"
      },
      "execution_count": 77,
      "outputs": [
        {
          "output_type": "stream",
          "name": "stdout",
          "text": [
            "[-5, -8, -10, -15]\n"
          ]
        }
      ]
    }
  ]
}