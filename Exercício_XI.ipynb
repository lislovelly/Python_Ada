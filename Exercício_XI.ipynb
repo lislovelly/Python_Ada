{
  "nbformat": 4,
  "nbformat_minor": 0,
  "metadata": {
    "colab": {
      "provenance": [],
      "authorship_tag": "ABX9TyO/qVUo1jTuGENoMwl9KMrq",
      "include_colab_link": true
    },
    "kernelspec": {
      "name": "python3",
      "display_name": "Python 3"
    },
    "language_info": {
      "name": "python"
    }
  },
  "cells": [
    {
      "cell_type": "markdown",
      "metadata": {
        "id": "view-in-github",
        "colab_type": "text"
      },
      "source": [
        "<a href=\"https://colab.research.google.com/github/lislovelly/Python_Ada/blob/main/Exerc%C3%ADcio_XI.ipynb\" target=\"_parent\"><img src=\"https://colab.research.google.com/assets/colab-badge.svg\" alt=\"Open In Colab\"/></a>"
      ]
    },
    {
      "cell_type": "code",
      "execution_count": null,
      "metadata": {
        "colab": {
          "base_uri": "https://localhost:8080/"
        },
        "id": "DHLBBZCNBBnM",
        "outputId": "8ee21d42-1f0c-473a-c5bb-6c4a8b32e14a"
      },
      "outputs": [
        {
          "output_type": "stream",
          "name": "stdout",
          "text": [
            "True False\n"
          ]
        }
      ],
      "source": [
        "class A:\n",
        "    def __init__(self, x, y):\n",
        "        self.x = x\n",
        "        self.y = y\n",
        "    def __eq__(self, outro):\n",
        "        return self.x == outro.x\n",
        "\n",
        "class B:\n",
        "    def __init__(self, x, y):\n",
        "        self.x = x\n",
        "        self.y = y\n",
        "    def __eq__(self, outro):\n",
        "        return self.y == outro.y\n",
        "\n",
        "a = A(x=1, y=2)\n",
        "b = B(x=1, y=3)\n",
        "print(a==b, b==a)"
      ]
    },
    {
      "cell_type": "code",
      "source": [
        "class Tolerancia:\n",
        "    def __init__(self, x, tol_minima=3, tol_maxima=6):\n",
        "        self.x = x\n",
        "        self.tol_minima = tol_minima\n",
        "        self.tol_maxima = tol_maxima\n",
        "    def __eq__(self, outro):\n",
        "        return abs(self.x - outro.x) <= self.tol_minima\n",
        "    def __ne__(self, outro):\n",
        "        return abs(self.x - outro.x) >= self.tol_maxima\n",
        "a = Tolerancia(x=10)\n",
        "b = Tolerancia(x=15)\n",
        "print(a==b, a!=b)"
      ],
      "metadata": {
        "id": "32mNytN8Bifg",
        "outputId": "2e1d833f-e794-4ded-832c-e70537bcb97e",
        "colab": {
          "base_uri": "https://localhost:8080/"
        }
      },
      "execution_count": null,
      "outputs": [
        {
          "output_type": "stream",
          "name": "stdout",
          "text": [
            "False False\n"
          ]
        }
      ]
    }
  ]
}