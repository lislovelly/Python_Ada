{
  "cells": [
    {
      "cell_type": "markdown",
      "metadata": {
        "id": "view-in-github",
        "colab_type": "text"
      },
      "source": [
        "<a href=\"https://colab.research.google.com/github/lislovelly/Colab/blob/main/Aula_4_strings.ipynb\" target=\"_parent\"><img src=\"https://colab.research.google.com/assets/colab-badge.svg\" alt=\"Open In Colab\"/></a>"
      ]
    },
    {
      "cell_type": "markdown",
      "metadata": {
        "id": "7I3kmL80plCp"
      },
      "source": [
        "# Aula 4 - strings\n",
        "\n",
        "Na aula de hoje, vamos explorar os seguintes tópicos em Python:\n",
        "\n",
        "- 1) Strings\n",
        "- 2) Funções de Strings\n",
        "    - 2.1) Formatação de strings\n",
        "_______\n"
      ]
    },
    {
      "cell_type": "markdown",
      "metadata": {
        "id": "2pl2G-M-plCy"
      },
      "source": [
        "____\n",
        "____\n",
        "____"
      ]
    },
    {
      "cell_type": "markdown",
      "metadata": {
        "id": "r_B4wBtSplCz"
      },
      "source": [
        "## 1) Strings\n",
        "\n",
        "Desde a primeira aula, temos trabalhado com strings, que, como vimos, representam **dados textuais**\n",
        "\n",
        "Vamos, agora, olhar pra strings um pouco mais a fundo, e aprender algumas funções para trabalharmos com strings"
      ]
    },
    {
      "cell_type": "markdown",
      "metadata": {
        "id": "3NUwRDGWplC0"
      },
      "source": [
        "Uma string nada mais é do que uma **coleção de caracteres**!\n",
        "\n",
        "Assim, podemos acessar caracteres específicos ou então um intervalo de caracteres de uma string, como se fosse uma lista!\n",
        "\n",
        "**OBS.: Para strings também, o índice começa em 0, e podemos usar índices negativos!**"
      ]
    },
    {
      "cell_type": "code",
      "execution_count": null,
      "metadata": {
        "id": "jLuNeNKtplC1"
      },
      "outputs": [],
      "source": []
    },
    {
      "cell_type": "markdown",
      "metadata": {
        "id": "c_eH1WnCplC2"
      },
      "source": [
        "Para saber o comprimento de uma string (quantos caracteres ela tem, incluindo espaços e pontuações), use a função len():"
      ]
    },
    {
      "cell_type": "code",
      "execution_count": null,
      "metadata": {
        "id": "c53RPQm9plC3"
      },
      "outputs": [],
      "source": []
    },
    {
      "cell_type": "markdown",
      "metadata": {
        "id": "yEMWn7zXplC3"
      },
      "source": [
        "Podemos também percorrer cada caractere da string com o `for` -- strings são objetos **iteráveis**:"
      ]
    },
    {
      "cell_type": "code",
      "execution_count": null,
      "metadata": {
        "id": "GG7hbr9IplC4"
      },
      "outputs": [],
      "source": []
    },
    {
      "cell_type": "markdown",
      "metadata": {
        "id": "3PfTc2Q-plC5"
      },
      "source": [
        "Dá pra fazer o mesmo com o range() e o len():"
      ]
    },
    {
      "cell_type": "code",
      "execution_count": null,
      "metadata": {
        "id": "gmfwODJTplC5"
      },
      "outputs": [],
      "source": []
    },
    {
      "cell_type": "markdown",
      "metadata": {
        "id": "25JH0squplC6"
      },
      "source": [
        "Apesar de se parecer com uma lista, a string não tem exatamente as propriedades de uma lista. Por exemplo, **não podemos alterar** caracteres individualmente:"
      ]
    },
    {
      "cell_type": "code",
      "execution_count": null,
      "metadata": {
        "id": "Y-yAx_pKplC6"
      },
      "outputs": [],
      "source": []
    },
    {
      "cell_type": "markdown",
      "metadata": {
        "id": "L1F5pmPgplC7"
      },
      "source": [
        "Mas nós conseguimos **alterar caracteres (ou palavras)** com o método \"replace()\":"
      ]
    },
    {
      "cell_type": "code",
      "execution_count": null,
      "metadata": {
        "id": "5P2zyKHAplC7"
      },
      "outputs": [],
      "source": []
    },
    {
      "cell_type": "markdown",
      "metadata": {
        "id": "edMo11G1plC7"
      },
      "source": [
        "Podemos **transformar uma string em uma lista de caracteres**, explicitamente, usando a fução \"list()\""
      ]
    },
    {
      "cell_type": "code",
      "execution_count": null,
      "metadata": {
        "id": "mXqVeTYtplC8"
      },
      "outputs": [],
      "source": []
    },
    {
      "cell_type": "markdown",
      "metadata": {
        "id": "0J-wZo7HplC8"
      },
      "source": [
        "Agora sim, podemos alterar um elemento da lista:"
      ]
    },
    {
      "cell_type": "code",
      "execution_count": null,
      "metadata": {
        "id": "1hUezd2lplC9"
      },
      "outputs": [],
      "source": []
    },
    {
      "cell_type": "markdown",
      "metadata": {
        "id": "IHjDnGMNplC9"
      },
      "source": [
        "E, pra trasnformar a lista de volta pra string, usamos a função \"join()\":"
      ]
    },
    {
      "cell_type": "code",
      "execution_count": null,
      "metadata": {
        "id": "5xTkaPgCplC9"
      },
      "outputs": [],
      "source": []
    },
    {
      "cell_type": "markdown",
      "metadata": {
        "id": "7vvtChjYplC9"
      },
      "source": [
        "Um exemplo do uso do .join() pra juntar os números de uma lista em um único numero"
      ]
    },
    {
      "cell_type": "code",
      "execution_count": null,
      "metadata": {
        "id": "--csveUfplC-"
      },
      "outputs": [],
      "source": []
    },
    {
      "cell_type": "markdown",
      "metadata": {
        "id": "xHqfJrkCplC-"
      },
      "source": [
        "Como já vimos, podemos fazer **operações com strings**:"
      ]
    },
    {
      "cell_type": "markdown",
      "metadata": {
        "id": "xbpLfd87plC-"
      },
      "source": [
        "Soma de strings: ao somar duas strings, elas são concatenadas:"
      ]
    },
    {
      "cell_type": "code",
      "execution_count": null,
      "metadata": {
        "id": "uBWIOTDqplC_"
      },
      "outputs": [],
      "source": []
    },
    {
      "cell_type": "markdown",
      "metadata": {
        "id": "AcmI7_7XplC_"
      },
      "source": [
        "Multiplicação de string por inteiro: ao multiplicar uma string por um número inteiro, a string é repetida:"
      ]
    },
    {
      "cell_type": "code",
      "execution_count": null,
      "metadata": {
        "id": "wgGttHsWplC_"
      },
      "outputs": [],
      "source": []
    },
    {
      "cell_type": "markdown",
      "metadata": {
        "id": "q1p1ibYJplDA"
      },
      "source": [
        "__________\n",
        "__________\n",
        "__________"
      ]
    },
    {
      "cell_type": "markdown",
      "metadata": {
        "id": "zdww3NHzplDA"
      },
      "source": [
        "## 2) Funções de strings\n",
        "\n",
        "Como listas, strings também têm algumas funções específicas. Algumas delas são:"
      ]
    },
    {
      "cell_type": "markdown",
      "metadata": {
        "id": "J5skIISNplDA"
      },
      "source": [
        ".upper(): transforma todos os caracteres em maiúscula"
      ]
    },
    {
      "cell_type": "code",
      "execution_count": null,
      "metadata": {
        "id": "tCY3YRe9plDB"
      },
      "outputs": [],
      "source": []
    },
    {
      "cell_type": "markdown",
      "metadata": {
        "id": "BgA4DMptplDB"
      },
      "source": [
        ".lower(): trasnforma todos os caracteres em minúscula"
      ]
    },
    {
      "cell_type": "code",
      "execution_count": null,
      "metadata": {
        "id": "z709Ub3FplDB"
      },
      "outputs": [],
      "source": []
    },
    {
      "cell_type": "markdown",
      "metadata": {
        "id": "HPifmLhRplDC"
      },
      "source": [
        ".title(): deixa a primeira letra de cada palavra em maiúscula"
      ]
    },
    {
      "cell_type": "code",
      "execution_count": null,
      "metadata": {
        "id": "IKsv5euMplDC"
      },
      "outputs": [],
      "source": []
    },
    {
      "cell_type": "markdown",
      "metadata": {
        "id": "XYD3Ee4FplDC"
      },
      "source": [
        ".capitalize(): deixa a primeira letra da primeira palavra em maiúscula"
      ]
    },
    {
      "cell_type": "code",
      "execution_count": null,
      "metadata": {
        "id": "NtSzyEjIplDC"
      },
      "outputs": [],
      "source": []
    },
    {
      "cell_type": "markdown",
      "metadata": {
        "id": "QGfSB1bBplDD"
      },
      "source": [
        "É possível quebrar uma string em determinado caractere, tendo como resultado uma **lista com os caracteres além da quebra**.\n",
        "\n",
        "- Para quebrar nos espaços, use a função \".split()\", sem argumento"
      ]
    },
    {
      "cell_type": "code",
      "execution_count": null,
      "metadata": {
        "id": "Rh255IkoplDE"
      },
      "outputs": [],
      "source": []
    },
    {
      "cell_type": "markdown",
      "metadata": {
        "id": "03t0vb-wplDF"
      },
      "source": [
        "- Para quebrar em algum caracter, use o caractere como argumento:"
      ]
    },
    {
      "cell_type": "code",
      "execution_count": null,
      "metadata": {
        "id": "q-64mUn1plDF"
      },
      "outputs": [],
      "source": []
    },
    {
      "cell_type": "markdown",
      "metadata": {
        "id": "CgQBBkR3plDF"
      },
      "source": [
        "__Tirar espaços que tão sobrando no fim e no início da string__\n",
        "\n",
        "Utilize a função strip()"
      ]
    },
    {
      "cell_type": "code",
      "execution_count": null,
      "metadata": {
        "id": "D_3mqt7GplDG"
      },
      "outputs": [],
      "source": []
    },
    {
      "cell_type": "markdown",
      "metadata": {
        "id": "TxY70X4QplDG"
      },
      "source": [
        "Mas essa função não elimina espaços extrar no \"meio\" da string -- apenas no início e no fim!"
      ]
    },
    {
      "cell_type": "code",
      "execution_count": null,
      "metadata": {
        "id": "BjK73bG1plDG"
      },
      "outputs": [],
      "source": []
    },
    {
      "cell_type": "markdown",
      "metadata": {
        "id": "oye4tfTfplDH"
      },
      "source": [
        "__Pra tirar espaços do meio, podemos fazer:__"
      ]
    },
    {
      "cell_type": "code",
      "execution_count": null,
      "metadata": {
        "id": "tayrU-aSplDH"
      },
      "outputs": [],
      "source": []
    },
    {
      "cell_type": "markdown",
      "metadata": {
        "id": "8EQfqpsQplDH"
      },
      "source": [
        "Ou:"
      ]
    },
    {
      "cell_type": "code",
      "execution_count": null,
      "metadata": {
        "id": "WZyxCbs_plDI"
      },
      "outputs": [],
      "source": []
    },
    {
      "cell_type": "markdown",
      "metadata": {
        "id": "Wr3wIwDbplDI"
      },
      "source": [
        "Outras funções interessantes...\n",
        "\n",
        "- isdigit()\n",
        "- isalpha()\n",
        "- isalnum()\n",
        "- isspace()"
      ]
    },
    {
      "cell_type": "code",
      "execution_count": null,
      "metadata": {
        "id": "RF-8ghGsplDI"
      },
      "outputs": [],
      "source": []
    },
    {
      "cell_type": "markdown",
      "metadata": {
        "id": "vImOwF7UplDJ"
      },
      "source": [
        "Podemos usar as funções acima para padronizar a resposta de um usuário!\n",
        "\n",
        "Utilizamos a função\n",
        "\n",
        "```unicodedata.normalize(\"NFD\", minha_string).encode(\"ascii\", \"ignore\").decode(\"utf-8\")```\n",
        "\n",
        "Para tirar acentos da string \"minha_string\"\n",
        "\n",
        "E o ```strip()``` é usado pra tirar espaços desnecessários do início e do fim de uma string"
      ]
    },
    {
      "cell_type": "code",
      "execution_count": null,
      "metadata": {
        "id": "ZteyBPMxplDJ"
      },
      "outputs": [],
      "source": []
    },
    {
      "cell_type": "markdown",
      "metadata": {
        "id": "fy5F7EsEplDJ"
      },
      "source": [
        "Como pudemos ver acima, processar a string para que ela esteja em **determinado padrão** (por exemplo: em letras maiúsculas e sem acentos) é um passo muito importante para que operações de comparação entre strings funcionem perfeitamente sem erros!"
      ]
    },
    {
      "cell_type": "code",
      "execution_count": null,
      "metadata": {
        "id": "zZVXCPqfplDK"
      },
      "outputs": [],
      "source": []
    },
    {
      "cell_type": "markdown",
      "metadata": {
        "id": "xrpeEPPGplDK"
      },
      "source": [
        "___\n",
        "___"
      ]
    },
    {
      "cell_type": "markdown",
      "metadata": {
        "id": "R5qTkd7lplDK"
      },
      "source": [
        "### 2.1) Formatação de strings\n",
        "\n",
        "Também podemos **formatar strings**. Isso pode ser super útil tanto ao receber dados do usuário (input) quando ao exbibir dados pro usuário (print)"
      ]
    },
    {
      "cell_type": "markdown",
      "metadata": {
        "id": "l7u0zanwplDL"
      },
      "source": [
        "Um dos usos mais legal do format é para **exibir** strings formatadas.\n",
        "\n",
        "Imagine que você queira exibir uma data no formato dd/mm/aaaa.\n",
        "\n",
        "Em situações normais, dias e meses inferiores a 10 apareceriam com apenas 1 dígito (int não é representado com zeros à esquerda). Porém, podemos especificar no format que gostaríamos de representar um inteiro com 2 dígitos, preenchendo com zero dígitos em branco (à esquerda):\n",
        "\n",
        "```python\n",
        "\n",
        "dia = 1\n",
        "mes = 2\n",
        "ano = 2020\n",
        "data = '{:02d}/{:02d}/{:04d}'.format(dia, mes, ano)\n",
        "print(data) # resultado: 01/02/2020\n",
        "```\n",
        "\n",
        "O símbolo 'd' indica que estamos representando números **inteiros** em base decimal (dígitos de 0 a 9).\n",
        "\n",
        "Os símbolos '2' e '4' indicam, respectivamente, 2 dígitos ou 4 dígitos.\n",
        "\n",
        "o símbolo '0' indica que se faltar dígitos, os espaços devem ser preenchidos com zero"
      ]
    },
    {
      "cell_type": "code",
      "execution_count": null,
      "metadata": {
        "id": "zXYX1zDWplDL"
      },
      "outputs": [],
      "source": []
    },
    {
      "cell_type": "markdown",
      "metadata": {
        "id": "fDKxF7eiplDL"
      },
      "source": [
        "Imagina que você queira exibir algum valor monetário, por exemplo, o preço de alguma coisa.\n",
        "\n",
        "Utilizando float, pode ser que seu resultado tenha apenas uma casa decimal.\n",
        "\n",
        "Mas, se tratando de dinheito, sempre queremos mostrar duas casas decimais!\n",
        "\n",
        "Usaremos o format para representar com apenas 2 casas.\n",
        "\n",
        "```python\n",
        "preco = 1500.5\n",
        "\n",
        "print(preco)\n",
        "\n",
        "precoFinal = 'R$ {:.2f}'.format(preco)\n",
        "\n",
        "print(precoFinal)\n",
        "```\n",
        "\n",
        "Neste caso, o 'f' indica que o número é float.\n",
        "\n",
        "Já o '.2' indica que queremos 2 casas após o ponto decimal.\n",
        "\n",
        "Note que a função não apenas descarta as casas excedentes, e sim arredonda corretamente o número."
      ]
    },
    {
      "cell_type": "code",
      "execution_count": null,
      "metadata": {
        "id": "Z_Z6S8x_plDM"
      },
      "outputs": [],
      "source": []
    },
    {
      "cell_type": "markdown",
      "metadata": {
        "id": "G7YUqE7aplDM"
      },
      "source": [
        "Uma outra forma interessante de formatar strings é com a utilização das chamadas [f strings](https://docs.python.org/pt-br/3/tutorial/inputoutput.html#tut-f-strings).\n",
        "\n",
        "Esa formatação permite que coloquemos facilmente variáveis em strings, de maneira fluida! Essa construção é super útil sobretudo na construção de exibições mais complexas.\n",
        "\n",
        "Veja, abaixo, alguns exemplos!"
      ]
    },
    {
      "cell_type": "code",
      "execution_count": null,
      "metadata": {
        "id": "OX-jnHsOplDM"
      },
      "outputs": [],
      "source": []
    }
  ],
  "metadata": {
    "kernelspec": {
      "display_name": "Python 3",
      "language": "python",
      "name": "python3"
    },
    "language_info": {
      "codemirror_mode": {
        "name": "ipython",
        "version": 3
      },
      "file_extension": ".py",
      "mimetype": "text/x-python",
      "name": "python",
      "nbconvert_exporter": "python",
      "pygments_lexer": "ipython3",
      "version": "3.8.3"
    },
    "varInspector": {
      "cols": {
        "lenName": 16,
        "lenType": 16,
        "lenVar": 40
      },
      "kernels_config": {
        "python": {
          "delete_cmd_postfix": "",
          "delete_cmd_prefix": "del ",
          "library": "var_list.py",
          "varRefreshCmd": "print(var_dic_list())"
        },
        "r": {
          "delete_cmd_postfix": ") ",
          "delete_cmd_prefix": "rm(",
          "library": "var_list.r",
          "varRefreshCmd": "cat(var_dic_list()) "
        }
      },
      "types_to_exclude": [
        "module",
        "function",
        "builtin_function_or_method",
        "instance",
        "_Feature"
      ],
      "window_display": false
    },
    "colab": {
      "provenance": [],
      "include_colab_link": true
    }
  },
  "nbformat": 4,
  "nbformat_minor": 0
}